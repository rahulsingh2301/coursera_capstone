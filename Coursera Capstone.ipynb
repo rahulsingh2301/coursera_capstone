{
    "cells": [
        {
            "cell_type": "markdown",
            "metadata": {
                "collapsed": true
            },
            "source": "<h1>Coursera Capstone</h1>"
        },
        {
            "cell_type": "markdown",
            "metadata": {},
            "source": "<h2>IBM Applied Data Science Capstone</h2>"
        },
        {
            "cell_type": "markdown",
            "metadata": {},
            "source": "<p><b>Opening a New Shopping Mall in Kuala Lumpur, Malaysia</b></p>"
        },
        {
            "cell_type": "markdown",
            "metadata": {},
            "source": "<p><b>BY</b> : <i>Rahul Kumar Singh</i></p>"
        },
        {
            "cell_type": "markdown",
            "metadata": {},
            "source": "<b>April 2020</b>"
        },
        {
            "cell_type": "markdown",
            "metadata": {},
            "source": "<h3>Introduction</h3>"
        },
        {
            "cell_type": "markdown",
            "metadata": {},
            "source": "<p>For many Shoppers, visiting Shopping mmalls is a great way to relax and enjoy themselves during weekends and holidays. They can do grocery shopping, dine at restaurants, shop at the various fashion outlets, watch movies and perform many more activities. Shopping malls are like a one stop destination for all types of shoppers. For retailers, the central location and the large cloud at the shopping malls provides a great distribution channel to market their products and services. property developers are also taking advantage of this trend to build more shopping malls to cater to the demand. As a result, there are many shopping malls in the city of Kuala Lumpur and many many more are being built. Opening shopping malls allow property developers to earn consistent rental income. Ofcourse, as with any business decision, opening a shopping mall requires serious considerationans and is a lot more complicated than it seems. particularly, the location of the shopping mall is one of the most important deciions that will determine whether the mall will be a success or a failure.</p>"
        },
        {
            "cell_type": "markdown",
            "metadata": {},
            "source": "<h3>Business Problem</h3>"
        },
        {
            "cell_type": "markdown",
            "metadata": {},
            "source": "<p>The objective of this capstone project is to analyse and select the best locations in the city of Kulala Lumpur, malaysia to open a new shopping mall. Using data science methodology and machine learning techniques like clusterings, this project aims to provide solutions to answer the business question : In the city of Kuala Lumpur, Malaysia, if a property developer is looking to open a new shopping mall, where would you recommend that they open it?</p>"
        },
        {
            "cell_type": "markdown",
            "metadata": {},
            "source": "<h3>Target Audience of this project</h3>"
        },
        {
            "cell_type": "markdown",
            "metadata": {},
            "source": "<p>This project is particularly useful to preperty developers and investors looking to open or invest in new shopping malls in the capital city of Malaysia i.e. Kuala Lumpur. This project is timely as the city is currently Suffering from oversupply of shopping malls. Data from the National Property Information Centre(NAPIC) released last year showed that an additional 15 per cent will be added to existing mall space,and the agency predicted that the total occupancy may dip below 86 per cent. The local newspaper The Malay Mail also reported in March last year that the true occupancy rates in malls may be as low as 40 per cent in some areas, quoting a Financial Times(FT) article cataloguing the country's continued obsession with building more shopping space despite chronic oversupply.</p>"
        },
        {
            "cell_type": "markdown",
            "metadata": {},
            "source": "<h2>Data</h2>"
        },
        {
            "cell_type": "markdown",
            "metadata": {},
            "source": "<h3>To solve the problems, we will need the following data:</h3>"
        },
        {
            "cell_type": "markdown",
            "metadata": {},
            "source": "<p>1. List of neighbourhoods in Kuala Lumpur. This defines the scope of this project which is confined to the city of Kuala Lumpur, the capital city of Kuala Lumpur, the capital city of the country of Malaysia in South East Asia.<p>"
        },
        {
            "cell_type": "markdown",
            "metadata": {},
            "source": "<p>2. Latitude and longitude coordinates of those neighbourhoods. This is required in order to plot the map and also to get the venue data.</p>"
        },
        {
            "cell_type": "markdown",
            "metadata": {},
            "source": "<p>3. Venue data, paticularly data related to shopping malls . we will use this data to perform clustering on the neighbourhoods.</p>"
        },
        {
            "cell_type": "markdown",
            "metadata": {},
            "source": "<h3>Sources of data and methods to extract them</h3>"
        },
        {
            "cell_type": "markdown",
            "metadata": {},
            "source": "<p>This wikipedia page <a href=\"https://en:wikipedia.org/wiki/Category:suburbs_in_Kuala_Lumpur\">WIKIPEDIAPAGE_LINK</a> containes a list of neighbourhoods in Kuala Lumpur, with a total of 70 neighbourhoods. We will use web scraping techniques to extract the data from the wikipedia page, with the help of python requets and beautifulsoup packages. Then we will get the geographical coordinates of the neighbourhoods using python geocoder package which will give us the latitude and longitude coordinates of the neighbourhoods.</p>"
        },
        {
            "cell_type": "markdown",
            "metadata": {},
            "source": "<p>After that, we will use Foursquare API to get The venue data for those neighbourboods. Foursquare has one of the largest database of 105+ million places and is used by over 125,000 developers. Foursquare API will provide many categories of the venue data, we are particularly interested in the shopping mall category in order to help us to solve the business problem put forward. This is a project that will make use of many data science skills, from web scraping(wikipedia), working with API (Foursquare), data cleaning, data wrangling, to machine learning(K-means clustering) and map visualization(Folium). In the next section, we will present the methodology section where we will discuss the steps taken in this project, the data analysis that we did and the machine learning technique that was used.</p>"
        },
        {
            "cell_type": "code",
            "execution_count": null,
            "metadata": {},
            "outputs": [],
            "source": ""
        },
        {
            "cell_type": "code",
            "execution_count": null,
            "metadata": {},
            "outputs": [],
            "source": ""
        },
        {
            "cell_type": "code",
            "execution_count": null,
            "metadata": {},
            "outputs": [],
            "source": ""
        },
        {
            "cell_type": "code",
            "execution_count": null,
            "metadata": {},
            "outputs": [],
            "source": ""
        },
        {
            "cell_type": "code",
            "execution_count": null,
            "metadata": {},
            "outputs": [],
            "source": ""
        },
        {
            "cell_type": "code",
            "execution_count": null,
            "metadata": {},
            "outputs": [],
            "source": ""
        },
        {
            "cell_type": "code",
            "execution_count": null,
            "metadata": {},
            "outputs": [],
            "source": ""
        },
        {
            "cell_type": "code",
            "execution_count": null,
            "metadata": {},
            "outputs": [],
            "source": ""
        }
    ],
    "metadata": {
        "kernelspec": {
            "display_name": "Python 3.6",
            "language": "python",
            "name": "python3"
        },
        "language_info": {
            "codemirror_mode": {
                "name": "ipython",
                "version": 3
            },
            "file_extension": ".py",
            "mimetype": "text/x-python",
            "name": "python",
            "nbconvert_exporter": "python",
            "pygments_lexer": "ipython3",
            "version": "3.6.9"
        }
    },
    "nbformat": 4,
    "nbformat_minor": 1
}